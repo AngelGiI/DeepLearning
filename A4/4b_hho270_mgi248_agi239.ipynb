{
  "cells": [
    {
      "cell_type": "markdown",
      "metadata": {
        "id": "aJ_pmgxvGur9"
      },
      "source": [
        "# Assignment 4b - Graph Convolutional Networks\n",
        "## Deep Learning Course - Vrije Universiteit Amsterdam, 2022"
      ]
    },
    {
      "cell_type": "markdown",
      "metadata": {
        "id": "mEneMITS2agU"
      },
      "source": [
        "#### Instructions on how to use this notebook:\n",
        "\n",
        "This notebook is hosted on Google Colab. To be able to work on it, you have to create your own copy. Go to *File* and select *Save a copy in Drive*.\n",
        "\n",
        "You can also avoid using Colab entirely, and download the notebook to run it on your own machine. If you choose this, go to *File* and select *Download .ipynb*.\n",
        "\n",
        "The advantage of using Colab is that you can use a GPU. You can complete this assignment with a CPU, but it will take a bit longer. Furthermore, we encourage you to train using the GPU not only for faster training, but also to get experience with this setting. This includes moving models and tensors to the GPU and back. This experience is very valuable because for many interesting models and large datasets (like large CNNs for ImageNet, or Transformer models trained on Wikipedia), training on GPU is the only feasible way.\n",
        "\n",
        "The default Colab runtime does not have a GPU. To change this, go to *Runtime - Change runtime type*, and select *GPU* as the hardware accelerator. The GPU that you get changes according to what resources are available at the time, and its memory can go from a 5GB, to around 18GB if you are lucky. If you are curious, you can run the following in a code cell to check:\n",
        "\n",
        "```sh\n",
        "!nvidia-smi\n",
        "```\n",
        "\n",
        "Note that despite the name, Google Colab does  not support collaborative work without issues. When two or more people edit the notebook concurrently, only one version will be saved. You can choose to do group programming with one person sharing the screen with the others, or make multiple copies of the notebook to work concurrently.\n",
        "\n",
        "**Submission:** Upload your notebook in .ipynb format to Canvas. The code and answers to the questions in the notebook are sufficient, no separate report is expected. "
      ]
    },
    {
      "cell_type": "code",
      "execution_count": 1,
      "metadata": {
        "colab": {
          "base_uri": "https://localhost:8080/"
        },
        "id": "lBgoJIpdLI2Y",
        "outputId": "ce718618-558a-4914-d162-987db7cc942d"
      },
      "outputs": [
        {
          "name": "stdout",
          "output_type": "stream",
          "text": [
            "Fri Dec 23 23:17:22 2022       \n",
            "+-----------------------------------------------------------------------------+\n",
            "| NVIDIA-SMI 457.49       Driver Version: 457.49       CUDA Version: 11.1     |\n",
            "|-------------------------------+----------------------+----------------------+\n",
            "| GPU  Name            TCC/WDDM | Bus-Id        Disp.A | Volatile Uncorr. ECC |\n",
            "| Fan  Temp  Perf  Pwr:Usage/Cap|         Memory-Usage | GPU-Util  Compute M. |\n",
            "|                               |                      |               MIG M. |\n",
            "|===============================+======================+======================|\n",
            "|   0  GeForce GTX 1650   WDDM  | 00000000:01:00.0 Off |                  N/A |\n",
            "| N/A   38C    P8     4W /  N/A |    134MiB /  4096MiB |      0%      Default |\n",
            "|                               |                      |                  N/A |\n",
            "+-------------------------------+----------------------+----------------------+\n",
            "                                                                               \n",
            "+-----------------------------------------------------------------------------+\n",
            "| Processes:                                                                  |\n",
            "|  GPU   GI   CI        PID   Type   Process name                  GPU Memory |\n",
            "|        ID   ID                                                   Usage      |\n",
            "|=============================================================================|\n",
            "|    0   N/A  N/A     18956    C+G   ...5n1h2txyewy\\SearchApp.exe    N/A      |\n",
            "+-----------------------------------------------------------------------------+\n"
          ]
        }
      ],
      "source": [
        "!nvidia-smi"
      ]
    },
    {
      "cell_type": "markdown",
      "metadata": {
        "id": "tsdc7fDp40rQ"
      },
      "source": [
        "### Introduction\n",
        "\n",
        "Graphs are very useful data structures that allow us to represent sets of entities and the way they are related among each other. In a graph, entities are also known as *nodes*, and any link between entities is also called an *edge*.\n",
        "\n",
        "Examples of real world objects that can be modeled as graphs are social networks, where entities are people and relations denote friendship; and molecules, where entities are atoms and relations indicate a bond between them.\n",
        "\n",
        "There has been increased interest in the recent years in the application of deep learning architectures to graph-structured data, for tasks like predicting missing relations between entities, classifying entities, and classifying graphs. This interest has been spurred by the introduction of Graph Convolutional Networks (GCNs).\n",
        "\n",
        "In this assignment, you will implement and experiment with one of the first versions of the GCN, proposed by Thomas Kipf and Max Welling in their 2017 paper, [Semi-supervised Classification with Graph Convolutional Networks](https://arxiv.org/abs/1609.02907). In particular, the goals of this assignment are to\n",
        "\n",
        "- Understand how GCNs are formulated\n",
        "- Implement the GCN using PyTorch\n",
        "- Train and evaluate a model for semi-supervised node classification in citation networks\n",
        "- Train and evaluate a model for binary classification of molecules"
      ]
    },
    {
      "cell_type": "markdown",
      "metadata": {
        "id": "RvsuVNczG6pP"
      },
      "source": [
        "### Representing graphs\n",
        "\n",
        "Suppose we have the following graph:\n",
        "\n",
        "<img src=\"https://raw.githubusercontent.com/dfdazac/dlvu-a5/main/img/01-graph.png\" width=\"200\">\n",
        "\n",
        "This is an undirected graph (since the edges have no specified direction) with 4 nodes. One way to represent the connectivity structure of the graph is by means of the **adjacency matrix**. The $i$-th row of the matrix contains a 1 in the $j$-th column, if nodes $i$ and $j$ are connected. For an undirected graph like the one above, this means that the adjacency matrix\n",
        "\n",
        "- Is symmetric (e.g. an edge between 0 and 2 is equivalent as an edge between 2 and 0)\n",
        "- Is square, of size $n\\times n$ where $n$ is the number of nodes\n",
        "\n",
        "The adjacency matrix for the graph above is then the following:\n",
        "\n",
        "$$\n",
        "A =\n",
        "\\begin{bmatrix}\n",
        "0 & 0 & 1 & 0 \\\\ \n",
        "0 & 0 & 1 & 0 \\\\\n",
        "1 & 1 & 0 & 1 \\\\\n",
        "0 & 0 & 1 & 0\n",
        "\\end{bmatrix}\n",
        "$$\n",
        "\n",
        "A second matrix of interest is the **degree matrix**. This is a diagonal matrix where the $i$-th element of the diagonal indicates the number of edges connected to node $i$. Note that these can be obtained from $A$ by summing across the columns, or the rows. For our example, the degree matrix is\n",
        "\n",
        "$$\n",
        "D = \\begin{bmatrix}\n",
        "1 & 0 & 0 & 0 \\\\ \n",
        "0 & 1 & 0 & 0 \\\\\n",
        "0 & 0 & 3 & 0 \\\\\n",
        "0 & 0 & 0 & 1\n",
        "\\end{bmatrix}\n",
        "$$\n",
        "\n",
        "For specific applications, each node in the graph will have an associated vector of features $x\\in\\mathbb{R}^c$. If our graph is a social network, then the vector of features can contain information like age, location, and musical tastes, in a specific numeric format. In the case of a molecule, the node could represent an atom and have features like the atomic mass, etc. We can lay out the features in a matrix $X\\in\\mathbb{R}^{n\\times c}$, so that the feature vector for node $i$ is in the $i$-th row."
      ]
    },
    {
      "cell_type": "markdown",
      "metadata": {
        "id": "zCEQ2ffzHCf2"
      },
      "source": [
        "### Loading a citation network\n",
        "\n",
        "To move to a real world example, we will start with the Cora dataset. This dataset represents a citation network, where nodes are scientific publications, edges denote citations between them, and features are a [bag-of-words](https://en.wikipedia.org/wiki/Bag-of-words_model) extracted from their contents.\n",
        "\n",
        "This graph contains labels for nodes, that represent a specific topic. We will use these for a node classification task.\n",
        "\n",
        "To easily load it, we will use [PyTorch Geometric](https://pytorch-geometric.readthedocs.io/en/latest/index.html) (PyG), a deep learning library for graph-structured data."
      ]
    },
    {
      "cell_type": "code",
      "execution_count": 2,
      "metadata": {
        "colab": {
          "base_uri": "https://localhost:8080/",
          "height": 956
        },
        "id": "Yd2bTEBADt-a",
        "outputId": "cddf6354-ada8-4f75-f557-f42bf691e776"
      },
      "outputs": [],
      "source": [
        "# # Install PyTorch Geometric\n",
        "# import torch\n",
        "# try:\n",
        "#     import torch_geometric\n",
        "# except ModuleNotFoundError:\n",
        "#     # Installing torch geometric packages with specific CUDA+PyTorch version.\n",
        "#     # See https://pytorch-geometric.readthedocs.io/en/latest/notes/installation.html for details\n",
        "#     TORCH = torch.__version__.split('+')[0]\n",
        "#     CUDA = 'cu' + torch.version.cuda.replace('.','')\n",
        "\n",
        "#     !pip install torch-scatter     -f https://pytorch-geometric.com/whl/torch-{TORCH}+{CUDA}.html\n",
        "#     !pip install torch-sparse      -f https://pytorch-geometric.com/whl/torch-{TORCH}+{CUDA}.html\n",
        "#     !pip install torch-geometric\n",
        "#     import torch_geometric"
      ]
    },
    {
      "cell_type": "markdown",
      "metadata": {
        "id": "V0Nvh_-qEo1q"
      },
      "source": [
        "We can now use the library to download and import the dataset. Initializing the `Planetoid` class returns a `Dataset` object that can contain multiple graphs. In this task we will only use the `Cora` dataset (the citation network) and hence, we will select only the first element."
      ]
    },
    {
      "cell_type": "code",
      "execution_count": 3,
      "metadata": {
        "colab": {
          "base_uri": "https://localhost:8080/"
        },
        "id": "vuOvwhsHD2YK",
        "outputId": "ea0d84fa-3243-415a-d859-a212eb49554a"
      },
      "outputs": [],
      "source": [
        "from torch_geometric.datasets import Planetoid\n",
        "data = Planetoid(root='data/Planetoid', name='Cora')[0]"
      ]
    },
    {
      "cell_type": "markdown",
      "metadata": {
        "id": "v4WZkoiHFyZm"
      },
      "source": [
        "\n",
        "#### Question 1 (0.25 pt)\n",
        "\n",
        "The `data` object is an instance of the `Data` class in PyG. Check the [documentation](https://pytorch-geometric.readthedocs.io/en/latest/modules/data.html) and report the following properties of the graph:\n",
        "\n",
        "- Number of nodes\n",
        "- Number of edges \n",
        "- The dimension $c$ of the feature vectors $x\\in\\mathbb{R}^c$\n",
        "- The number of targets for the classification task"
      ]
    },
    {
      "cell_type": "code",
      "execution_count": 4,
      "metadata": {
        "colab": {
          "base_uri": "https://localhost:8080/"
        },
        "id": "sjVuGJhlJC_7",
        "outputId": "5e9e8919-0dd2-4e4d-b8d6-c7605c95668f"
      },
      "outputs": [
        {
          "name": "stdout",
          "output_type": "stream",
          "text": [
            "Number of nodes:  2708\n",
            "Number of edges:  10556\n",
            "Number of features: 1433\n",
            "Number of classes: 7\n"
          ]
        }
      ],
      "source": [
        "print('Number of nodes: ', data.num_nodes)\n",
        "print('Number of edges: ', data.num_edges)\n",
        "print(f'Number of features: {data.num_node_features}')\n",
        "dataset = Planetoid(root='data/Planetoid', name='Cora')\n",
        "print(f'Number of classes: {dataset.num_classes}')"
      ]
    },
    {
      "cell_type": "markdown",
      "metadata": {
        "id": "G4DrGDAuJ2YO"
      },
      "source": [
        "#### Question 2 (0.25 pt)\n",
        "\n",
        "In PyG, edges are provided in a tensor of shape (2, number of edges). You can access it via `data.edge_index`. Each column in this tensor contains the IDs for two nodes that are connected in the graph.\n",
        "\n",
        "We saw that in an undirected graph, an edge between nodes $i$ and $j$ adds a value of 1 to positions $(i, j)$ and $(j, i)$ of the adjacency matrix. Is this also true for the edge index? That is, if there is an edge $(i, j)$ in `data.edge_index`, is there also an edge for $(j, i)$? This is important to know for the next steps of the implementation."
      ]
    },
    {
      "cell_type": "code",
      "execution_count": 5,
      "metadata": {
        "colab": {
          "base_uri": "https://localhost:8080/"
        },
        "id": "jTRfNxibarRZ",
        "outputId": "0fb3afb1-da1e-4b19-ba45-f412afdb3e69"
      },
      "outputs": [
        {
          "name": "stdout",
          "output_type": "stream",
          "text": [
            "tensor([[   0,    0,    0,  ..., 2707, 2707, 2707],\n",
            "        [ 633, 1862, 2582,  ...,  598, 1473, 2706]])\n",
            "tensor([2706, 2707, 2707, 2707, 2707])\n",
            "tensor([2707,  165,  598, 1473, 2706])\n"
          ]
        }
      ],
      "source": [
        "import numpy as np\n",
        "\n",
        "print(data.edge_index)\n",
        "a=data.edge_index\n",
        "# The last pair (i,j) is (2707,2706), so (j,i) should be pretty close from the RHS of data.edge_index.\n",
        "\n",
        "# Thus, we can check whether (j,i)=(2706,2707) appears in data.edge_index easily:\n",
        "print(a[0][-5:])\n",
        "print(a[1][-5:])\n",
        "\n",
        "# The answer is Yes! the edge index contains both (i,j) an (j,i) edges."
      ]
    },
    {
      "cell_type": "markdown",
      "metadata": {
        "id": "YOpS3QTYiOqp"
      },
      "source": [
        "#### Question 3 (0.5 pt)\n",
        "\n",
        "In graphs, especially large ones, the adjacency matrix is **sparse**: most entries are zero. Sparse matrices allow for efficient storage and computation.\n",
        "\n",
        "To prepare and pre-process sparse matrices, we will use [`scipy.sparse`](https://docs.scipy.org/doc/scipy/reference/sparse.html). Once the matrices are ready, we will convert them to PyTorch tensors.\n",
        "\n",
        "We will use the [Sparse COO format](https://en.wikipedia.org/wiki/Sparse_matrix#Coordinate_list_(COO)). We encourage you to first get familiar with how it works after continuing with the assignment.\n",
        "\n",
        "- Use the [`scipy.sparse.coo_matrix()`](https://docs.scipy.org/doc/scipy/reference/generated/scipy.sparse.coo_matrix.html) function to build the adjacency matrix. Think of what arguments are needed, and how you can obtain them from the graph data loaded above.\n",
        "- Use the `sum()` method of sparse matrices, together with `scipy.sparse.diags()`, to compute the degree matrix using the definition above.\n",
        "\n",
        "Both resulting matrices must be sparse of type `float32`."
      ]
    },
    {
      "cell_type": "code",
      "execution_count": 6,
      "metadata": {
        "colab": {
          "base_uri": "https://localhost:8080/"
        },
        "id": "QC01OjbJs92-",
        "outputId": "16fc850b-1697-48f7-9ca9-a024038f3b42"
      },
      "outputs": [
        {
          "name": "stdout",
          "output_type": "stream",
          "text": [
            "Adjacency matrix\n",
            "  (0, 633)\t1.0\n",
            "  (0, 1862)\t1.0\n",
            "  (0, 2582)\t1.0\n",
            "  (1, 2)\t1.0\n",
            "  (1, 652)\t1.0\n",
            "  (1, 654)\t1.0\n",
            "  (2, 1)\t1.0\n",
            "  (2, 332)\t1.0\n",
            "  (2, 1454)\t1.0\n",
            "  (2, 1666)\t1.0\n",
            "  (2, 1986)\t1.0\n",
            "  (3, 2544)\t1.0\n",
            "  (4, 1016)\t1.0\n",
            "  (4, 1256)\t1.0\n",
            "  (4, 1761)\t1.0\n",
            "  (4, 2175)\t1.0\n",
            "  (4, 2176)\t1.0\n",
            "  (5, 1629)\t1.0\n",
            "  (5, 1659)\t1.0\n",
            "  (5, 2546)\t1.0\n",
            "  (6, 373)\t1.0\n",
            "  (6, 1042)\t1.0\n",
            "  (6, 1416)\t1.0\n",
            "  (6, 1602)\t1.0\n",
            "  (7, 208)\t1.0\n",
            "  :\t:\n",
            "  (2694, 431)\t1.0\n",
            "  (2694, 2695)\t1.0\n",
            "  (2695, 431)\t1.0\n",
            "  (2695, 2694)\t1.0\n",
            "  (2696, 2615)\t1.0\n",
            "  (2697, 986)\t1.0\n",
            "  (2698, 1400)\t1.0\n",
            "  (2698, 1573)\t1.0\n",
            "  (2699, 2630)\t1.0\n",
            "  (2700, 1151)\t1.0\n",
            "  (2701, 44)\t1.0\n",
            "  (2701, 2624)\t1.0\n",
            "  (2702, 186)\t1.0\n",
            "  (2702, 1536)\t1.0\n",
            "  (2703, 1298)\t1.0\n",
            "  (2704, 641)\t1.0\n",
            "  (2705, 287)\t1.0\n",
            "  (2706, 165)\t1.0\n",
            "  (2706, 169)\t1.0\n",
            "  (2706, 1473)\t1.0\n",
            "  (2706, 2707)\t1.0\n",
            "  (2707, 165)\t1.0\n",
            "  (2707, 598)\t1.0\n",
            "  (2707, 1473)\t1.0\n",
            "  (2707, 2706)\t1.0\n",
            "\n",
            "Degree matrix\n",
            "  (0, 0)\t3.0\n",
            "  (1, 1)\t3.0\n",
            "  (2, 2)\t5.0\n",
            "  (3, 3)\t1.0\n",
            "  (4, 4)\t5.0\n",
            "  (5, 5)\t3.0\n",
            "  (6, 6)\t4.0\n",
            "  (7, 7)\t1.0\n",
            "  (8, 8)\t3.0\n",
            "  (9, 9)\t2.0\n",
            "  (10, 10)\t2.0\n",
            "  (11, 11)\t2.0\n",
            "  (12, 12)\t4.0\n",
            "  (13, 13)\t2.0\n",
            "  (14, 14)\t5.0\n",
            "  (15, 15)\t4.0\n",
            "  (16, 16)\t4.0\n",
            "  (17, 17)\t5.0\n",
            "  (18, 18)\t5.0\n",
            "  (19, 19)\t1.0\n",
            "  (20, 20)\t5.0\n",
            "  (21, 21)\t2.0\n",
            "  (22, 22)\t5.0\n",
            "  (23, 23)\t1.0\n",
            "  (24, 24)\t7.0\n",
            "  :\t:\n",
            "  (2683, 2683)\t1.0\n",
            "  (2684, 2684)\t2.0\n",
            "  (2685, 2685)\t4.0\n",
            "  (2686, 2686)\t2.0\n",
            "  (2687, 2687)\t2.0\n",
            "  (2688, 2688)\t3.0\n",
            "  (2689, 2689)\t2.0\n",
            "  (2690, 2690)\t1.0\n",
            "  (2691, 2691)\t2.0\n",
            "  (2692, 2692)\t1.0\n",
            "  (2693, 2693)\t1.0\n",
            "  (2694, 2694)\t2.0\n",
            "  (2695, 2695)\t2.0\n",
            "  (2696, 2696)\t1.0\n",
            "  (2697, 2697)\t1.0\n",
            "  (2698, 2698)\t2.0\n",
            "  (2699, 2699)\t1.0\n",
            "  (2700, 2700)\t1.0\n",
            "  (2701, 2701)\t2.0\n",
            "  (2702, 2702)\t2.0\n",
            "  (2703, 2703)\t1.0\n",
            "  (2704, 2704)\t1.0\n",
            "  (2705, 2705)\t1.0\n",
            "  (2706, 2706)\t4.0\n",
            "  (2707, 2707)\t4.0\n"
          ]
        }
      ],
      "source": [
        "from torch_sparse.tensor import scipy\n",
        "\n",
        "# Your answer here\n",
        "from torch_geometric.datasets import Planetoid\n",
        "data = Planetoid(root='data/Planetoid', name='Cora')[0]\n",
        "\n",
        "import numpy as np\n",
        "\n",
        "# Get the number of nodes in the graph\n",
        "num_nodes = data.num_nodes\n",
        "\n",
        "# Build the adjacency matrix\n",
        "adjacency_matrix = scipy.sparse.coo_matrix((np.ones(data.edge_index.shape[1]),\n",
        "                  (data.edge_index[0, :], data.edge_index[1, :])),\n",
        "                  shape=(num_nodes, num_nodes), dtype=np.float32)\n",
        "print(\"Adjacency matrix\")\n",
        "print(adjacency_matrix)\n",
        "\n",
        "# Get the degree vector\n",
        "degree_vector = adjacency_matrix.sum(axis=1).A1\n",
        "\n",
        "# Build the degree matrix\n",
        "degree_matrix = scipy.sparse.diags([degree_vector], [0], dtype=np.float32)\n",
        "print(\"\\nDegree matrix\")\n",
        "print(degree_matrix)\n"
      ]
    },
    {
      "cell_type": "markdown",
      "metadata": {
        "id": "AIEJyQi2TzyY"
      },
      "source": [
        "You might wonder why we suggest to use a scipy sparse matrix, while also PyTorch supports them. The reason is that in the next step, we will be multiplying two sparse matrices, an operation not supported in PyTorch. PyTorch only allows multiplying a sparse matrix with a dense one, something which we will be doing at a later stage.\n",
        "\n"
      ]
    },
    {
      "cell_type": "markdown",
      "metadata": {
        "id": "YlmzSb0up4LB"
      },
      "source": [
        "### The Graph Convolutional Network\n",
        "\n",
        "The goal of the graph convolution is to take the feature vectors of all nodes $X\\in\\mathbb{R}^{n\\times c}$, and propagate them along the existing edges, to obtain updated representations $Z\\in\\mathbb{R}^{n\\times d}$.\n",
        "\n",
        "\n",
        "The GCN is initially motivated as performing a convolution, similarly as it is done in CNNs for images, for graph-structured data. In Kipf and Welling (2017), a theoretical derivation leads to the following formula:\n",
        "\n",
        "$$\n",
        "Z = \\tilde{D}^{-\\frac{1}{2}}\\tilde{A}\\tilde{D}^{-\\frac{1}{2}}XW\n",
        "$$\n",
        "\n",
        "where\n",
        "\n",
        "- $W\\in\\mathbb{R}^{c\\times d}$ is a matrix of parameters to be learned via gradient descent\n",
        "- $\\tilde{A} = A + I_n$, where $I_n$ is an $n\\times n$ identity matrix\n",
        "- $\\tilde{D}$ is the degree matrix computed with $\\tilde{A}$ as the adjacency matrix\n",
        "\n",
        "If we define $\\hat{A} = \\tilde{D}^{-\\frac{1}{2}}\\tilde{A}\\tilde{D}^{-\\frac{1}{2}}$, the graph convolution can be written as $Z = \\hat{A}XW$."
      ]
    },
    {
      "cell_type": "markdown",
      "metadata": {
        "id": "LL4b-MTvysBp"
      },
      "source": [
        "#### Question 4 (0.25 pt)\n",
        "\n",
        "Given the formula for the GCN, explain why it operates by propagating feature vectors across the graph. To answer this, it might be useful to recall the definitions of the adjacency and degree matrices, and how they are involved in the formula."
      ]
    },
    {
      "cell_type": "markdown",
      "metadata": {
        "id": "Vgx2SkTTyiSN"
      },
      "source": [
        "**Answer**\n",
        "\n",
        "<p align=\"justify\">The graph convolution operation in a GCN operates by propagating feature vectors across the graph because it uses the adjacency matrix, which encodes the connections between nodes in the graph, to weight the contribution of each node's feature vector to the updated representations of its neighbors.\n",
        "\n",
        "<p align=\"justify\">The adjacency matrix $A\\in\\mathbb{R}^{n\\times n}$ is a square matrix where n is the number of nodes in the graph. Each element $A_{ij}$ in the matrix represents the strength of the connection between nodes i and j. If there is no connection between the two nodes, the value of $A_{ij}$ is 0. If there is a connection, the value is 1 (for an weighted graph it can also be a real number).\n",
        "\n",
        "<p align=\"justify\">The degree matrix $D\\in\\mathbb{R}^{n\\times n}$ is a diagonal matrix where the value of each element $D_{ii}$ is the degree of the node $i$, i.e., the number of connections it has to other nodes.\n",
        "\n",
        "<p align=\"justify\">In the GCN formula, the adjacency matrix is first transformed into $\\tilde{A}$ by adding the identity matrix $I_n$ to it. This has the effect of adding self-loops to all the nodes, i.e., connections from each node to itself with weight 1. This is done to ensure that each node's own feature vector is taken into account when updating its representation.\n",
        "\n",
        "<p align=\"justify\">The degree matrix $\\tilde{D}$ is then computed from the modified adjacency matrix $\\tilde{A}$. The matrix $\\tilde{A}$ is then element-wise multiplied by the inverse of $\\tilde{D}$, resulting in the matrix $\\hat{A}$. This matrix is used to weight the contribution of each node's feature vector to the updated representation of its neighbors.\n",
        "\n",
        "<p align=\"justify\">Finally, the feature vectors $X$ are multiplied by the matrix of parameters $W$ to obtain the updated representations $Z$. The resulting matrix $Z$ contains the updated feature vectors for all the nodes in the graph.\n",
        "\n",
        "<p align=\"justify\">In this way, the GCN formula propagates the feature vectors of the nodes across the graph, using the adjacency matrix to weight the contribution of each node's feature vector to its neighbors' updated representations."
      ]
    },
    {
      "cell_type": "markdown",
      "metadata": {
        "id": "QUGABEqxylsd"
      },
      "source": [
        "#### Question 5 (0.5 pt)\n",
        "\n",
        "Compute the **normalized adjacency matrix** $\\hat{A}$. The result should be a sparse matrix."
      ]
    },
    {
      "cell_type": "code",
      "execution_count": 7,
      "metadata": {
        "colab": {
          "base_uri": "https://localhost:8080/"
        },
        "id": "GPZbnSaSyDzO",
        "outputId": "b049be7e-b609-4065-9bca-3fe4e7af4c3a"
      },
      "outputs": [
        {
          "name": "stdout",
          "output_type": "stream",
          "text": [
            "  (0, 0)\t0.25\n",
            "  (0, 633)\t0.25\n",
            "  (0, 1862)\t0.22360679507255554\n",
            "  (0, 2582)\t0.25\n",
            "  (1, 1)\t0.25\n",
            "  (1, 2)\t0.20412415266036987\n",
            "  (1, 652)\t0.28867512941360474\n",
            "  (1, 654)\t0.3535533845424652\n",
            "  (2, 1)\t0.20412415266036987\n",
            "  (2, 2)\t0.16666667879725594\n",
            "  (2, 332)\t0.16666667879725594\n",
            "  (2, 1454)\t0.2886751401597465\n",
            "  (2, 1666)\t0.15430335304673193\n",
            "  (2, 1986)\t0.05025189181493417\n",
            "  (3, 3)\t0.4999999828857291\n",
            "  (3, 2544)\t0.4999999828857291\n",
            "  (4, 4)\t0.16666667879725594\n",
            "  (4, 1016)\t0.16666667879725594\n",
            "  (4, 1256)\t0.13608277249582912\n",
            "  (4, 1761)\t0.14433757007987325\n",
            "  (4, 2175)\t0.16666667879725594\n",
            "  (4, 2176)\t0.13608277249582912\n",
            "  (5, 5)\t0.25\n",
            "  (5, 1629)\t0.25\n",
            "  (5, 1659)\t0.28867512941360474\n",
            "  :\t:\n",
            "  (2699, 2699)\t0.4999999828857291\n",
            "  (2700, 1151)\t0.4082482761496564\n",
            "  (2700, 2700)\t0.4999999828857291\n",
            "  (2701, 44)\t0.28867512941360474\n",
            "  (2701, 2624)\t0.33333332136784577\n",
            "  (2701, 2701)\t0.33333332136784577\n",
            "  (2702, 186)\t0.21821788274037246\n",
            "  (2702, 1536)\t0.25819888202132546\n",
            "  (2702, 2702)\t0.33333332136784577\n",
            "  (2703, 1298)\t0.4999999828857291\n",
            "  (2703, 2703)\t0.4999999828857291\n",
            "  (2704, 641)\t0.4999999828857291\n",
            "  (2704, 2704)\t0.4999999828857291\n",
            "  (2705, 287)\t0.4999999828857291\n",
            "  (2705, 2705)\t0.4999999828857291\n",
            "  (2706, 165)\t0.1999999952104794\n",
            "  (2706, 169)\t0.25819888202132546\n",
            "  (2706, 1473)\t0.1999999952104794\n",
            "  (2706, 2706)\t0.1999999952104794\n",
            "  (2706, 2707)\t0.1999999952104794\n",
            "  (2707, 165)\t0.1999999952104794\n",
            "  (2707, 598)\t0.07669649645685173\n",
            "  (2707, 1473)\t0.1999999952104794\n",
            "  (2707, 2706)\t0.1999999952104794\n",
            "  (2707, 2707)\t0.1999999952104794\n"
          ]
        }
      ],
      "source": [
        "from torch_sparse.tensor import scipy\n",
        "from scipy.sparse.linalg import inv\n",
        "from torch_geometric.datasets import Planetoid\n",
        "data = Planetoid(root='data/Planetoid', name='Cora')[0]\n",
        "\n",
        "import numpy as np\n",
        "\n",
        "# Get the number of nodes in the graph\n",
        "num_nodes = data.num_nodes\n",
        "\n",
        "# Build the adjacency matrix\n",
        "adjacency_matrix = scipy.sparse.coo_matrix((np.ones(data.edge_index.shape[1]),\n",
        "                  (data.edge_index[0, :], data.edge_index[1, :])),\n",
        "                  shape=(num_nodes, num_nodes), dtype=np.float32)\n",
        "\n",
        "\n",
        "# Add the identity matrix to the adjacency matrix A\n",
        "A_hat = adjacency_matrix + scipy.sparse.eye(num_nodes)\n",
        "degree_A_hat = A_hat.sum(axis=0).A1\n",
        "\n",
        "D_hat = scipy.sparse.diags([degree_A_hat], [0], dtype=np.float32)\n",
        "\n",
        "# Compute the inverse square root of the degree array\n",
        "degree_sqrt_inv = 1 / np.sqrt(degree_A_hat)\n",
        "\n",
        "# Construct the matrix D^(-1/2) as a sparse diagonal matrix\n",
        "D_sqrt_inv = scipy.sparse.diags([degree_sqrt_inv], [0], dtype=np.float32)\n",
        "\n",
        "# normalize\n",
        "A_hat_norm = D_sqrt_inv.dot(A_hat).dot(D_sqrt_inv)\n",
        "print(A_hat_norm)"
      ]
    },
    {
      "cell_type": "markdown",
      "metadata": {
        "id": "LLLdGdZoMEy-"
      },
      "source": [
        "#### Question 6 (0.5 pt)\n",
        "\n",
        "So far we have used scipy to build and compute sparse matrices. Since we want to train a GCN with PyTorch, we need to convert $\\hat{A}$ into a sparse PyTorch tensor. You can do this with the [`torch.sparse_coo_tensor()`](https://pytorch.org/docs/stable/generated/torch.sparse_coo_tensor.html) function, making sure to specify `torch.float` as the type."
      ]
    },
    {
      "cell_type": "code",
      "execution_count": 8,
      "metadata": {
        "colab": {
          "base_uri": "https://localhost:8080/"
        },
        "id": "dgDsVHzEM32F",
        "outputId": "3fcbb460-abd1-4ff1-8921-56344d3872a0"
      },
      "outputs": [
        {
          "name": "stdout",
          "output_type": "stream",
          "text": [
            "tensor(indices=tensor([[   0,  633, 1862,  ..., 1473, 2706, 2707],\n",
            "                       [   0,    0,    0,  ..., 2707, 2707, 2707]]),\n",
            "       values=tensor([0.2500, 0.2500, 0.2236,  ..., 0.2000, 0.2000, 0.2000]),\n",
            "       size=(2708, 2708), nnz=13264, layout=torch.sparse_coo)\n"
          ]
        },
        {
          "name": "stderr",
          "output_type": "stream",
          "text": [
            "C:\\Users\\hh\\AppData\\Local\\Temp/ipykernel_22412/3965892582.py:13: UserWarning: Creating a tensor from a list of numpy.ndarrays is extremely slow. Please consider converting the list to a single numpy.ndarray with numpy.array() before converting to a tensor. (Triggered internally at C:\\actions-runner\\_work\\pytorch\\pytorch\\builder\\windows\\pytorch\\torch\\csrc\\utils\\tensor_new.cpp:233.)\n",
            "  A_hat_norm_torch = torch.sparse_coo_tensor(torch.LongTensor([row_indices, col_indices]),\n"
          ]
        }
      ],
      "source": [
        "import torch\n",
        "from torch_sparse.tensor import scipy\n",
        "from scipy.sparse.linalg import inv\n",
        "from torch_geometric.datasets import Planetoid\n",
        "data = Planetoid(root='data/Planetoid', name='Cora')[0]\n",
        "\n",
        "import numpy as np\n",
        "\n",
        "# Get the non-zero element indices and values of A_hat_norm\n",
        "row_indices, col_indices, values = scipy.sparse.find(A_hat_norm)\n",
        "\n",
        "# Convert A_hat_norm to a PyTorch sparse tensor\n",
        "A_hat_norm_torch = torch.sparse_coo_tensor(torch.LongTensor([row_indices, col_indices]),\n",
        "                                           torch.FloatTensor(values),\n",
        "                                           A_hat_norm.shape)\n",
        "\n",
        "print(A_hat_norm_torch)\n",
        "# Notice the warning. In this specific case, the warning message can be safely ignored because the list passed \n",
        "# to the LongTensor and FloatTensor constructors only have two elements, so the overhead of creating the list \n",
        "# is negligible. However, if we were to create a PyTorch tensor from a large list of NumPy arrays, we should \n",
        "# to consider following the suggestion in the warning message to improve performance."
      ]
    },
    {
      "cell_type": "markdown",
      "metadata": {
        "id": "eAlRVT5aODkX"
      },
      "source": [
        "#### Question 7 (0.5 pt)\n",
        "\n",
        "We now have all the ingredients to build a GCN layer. Implement a class (inheriting from `torch.nn.Module`) with a learnable matrix of weights $W\\in\\mathbb{R}^{c\\times d}$. Make sure to\n",
        "\n",
        "- Call this class `GCNLayer`\n",
        "- The `__init__()` constructor should take as argument the number of input and output features.\n",
        "- Use `torch.nn.init.kaiming_uniform_` to initialize $W$.\n",
        "- Define the `forward` method, which takes as input $X$ and $\\hat{A}$ and returns $Z$. Note that multiplications involving the sparse matrix $\\hat{A}$ have to be done with `torch.spmm`. \n",
        "\n",
        "Once you have implemented the class, instantiate a layer with the correct number of input features for the Cora dataset, and a number of output features of your choice. Do a forward pass and report the shape of the output tensor."
      ]
    },
    {
      "cell_type": "code",
      "execution_count": 9,
      "metadata": {
        "colab": {
          "base_uri": "https://localhost:8080/"
        },
        "id": "JFCohhhwPpTT",
        "outputId": "40c75cfa-ce98-4563-9dd7-c37e947f4860"
      },
      "outputs": [
        {
          "name": "stdout",
          "output_type": "stream",
          "text": [
            "GCNLayer (1433 -> 7)\n",
            "torch.Size([2708, 7])\n"
          ]
        }
      ],
      "source": [
        "import os\n",
        "import collections\n",
        "import numpy as np\n",
        "import pandas as pd\n",
        "import matplotlib.pyplot as plt\n",
        "import seaborn as sns\n",
        "import scipy.sparse as sp\n",
        "import torch\n",
        "from torch import Tensor\n",
        "import torch_geometric\n",
        "from torch_geometric.utils import to_networkx\n",
        "from torch_geometric.datasets import Planetoid\n",
        "import networkx as nx\n",
        "from networkx.algorithms import community\n",
        "\n",
        "import torch.nn as nn\n",
        "import torch.nn.functional as F\n",
        "from torch_geometric.datasets import Planetoid\n",
        "import math\n",
        "data = Planetoid(root='data/Planetoid', name='Cora')[0]\n",
        "dataset = Planetoid(root='data/Planetoid', name='Cora')\n",
        "\n",
        "class GCNLayer(nn.Module):\n",
        "\n",
        "\n",
        "    def __init__(self, in_features, out_features, bias=True):\n",
        "        super(GCNLayer, self).__init__()\n",
        "        self.in_features = in_features\n",
        "        self.out_features = out_features\n",
        "        self.weight = nn.Parameter(torch.FloatTensor(in_features, out_features))\n",
        "        if bias:\n",
        "            self.bias = nn.Parameter(torch.FloatTensor(out_features))\n",
        "        else:\n",
        "            self.register_parameter('bias', None)\n",
        "        self.reset_parameters()\n",
        "\n",
        "    def reset_parameters(self):\n",
        "        nn.init.kaiming_uniform_(self.weight)\n",
        "        stdv = 1. / math.sqrt(self.weight.size(1))\n",
        "        self.weight.data.uniform_(-stdv, stdv)\n",
        "        if self.bias is not None:\n",
        "            self.bias.data.uniform_(-stdv, stdv)\n",
        "\n",
        "    def forward(self, input, adj):\n",
        "        support = torch.mm(input, self.weight)\n",
        "        output = torch.spmm(adj, support)\n",
        "        if self.bias is not None:\n",
        "            return output + self.bias\n",
        "        else:\n",
        "            return output\n",
        "\n",
        "\n",
        "# Get the number of input features for the Cora dataset\n",
        "in_feats = data.num_features\n",
        "\n",
        "# Choose the number of output features\n",
        "out_feats = 7\n",
        "\n",
        "# Instantiate the GCN layer\n",
        "gcn_layer = GCNLayer(in_feats, out_feats)\n",
        "print(gcn_layer)\n",
        "\n",
        "inputs = data.x\n",
        "adjs = A_hat_norm_torch\n",
        "\n",
        "# Perform a forward pass through the GCN layer\n",
        "output = gcn_layer.forward(inputs, A_hat_norm_torch)\n",
        "\n",
        "# Print the shape of the output tensor\n",
        "print(output.shape)"
      ]
    },
    {
      "cell_type": "markdown",
      "metadata": {
        "id": "1ptAiizZUKaM"
      },
      "source": [
        "#### Question 8 (0.5 pt)\n",
        "\n",
        "As we have seen so far, the GCN layer implements a special type of linear transformation of the inputs. However, it is often beneficial in deep learning to stack multiple, non-linear transformations of the input features. Implement a second module class for a model with two GCN layers (use the module you implemented in the previous question).\n",
        "\n",
        "- Call this class `GCN`\n",
        "- The constructor must now take as input the number of input features, the output dimension of the first layer (this is the hidden layer), and the output dimension of the output layer.\n",
        "- In the forward pass, add a ReLU activation function after the first layer."
      ]
    },
    {
      "cell_type": "code",
      "execution_count": 10,
      "metadata": {
        "id": "2zhyu3S9Vj3b"
      },
      "outputs": [],
      "source": [
        "import torch.nn as nn\n",
        "import torch.nn.functional as F\n",
        "\n",
        "\n",
        "class GCN(nn.Module):\n",
        "    def __init__(self, nfeat, nhid, nclass, dropout):\n",
        "        super(GCN, self).__init__()\n",
        "\n",
        "        self.gc1 = GCNLayer(nfeat, nhid)\n",
        "        self.gc2 = GCNLayer(nhid, nclass)\n",
        "        self.dropout = dropout\n",
        "\n",
        "    def forward(self, x, adj):\n",
        "        x = F.relu(self.gc1(x, adj))\n",
        "        x = F.dropout(x, self.dropout, training=self.training)\n",
        "        x = self.gc2(x, adj)\n",
        "        return F.log_softmax(x, dim=1)"
      ]
    },
    {
      "cell_type": "markdown",
      "metadata": {
        "id": "6NVB-3I5Wfkf"
      },
      "source": [
        "### GCNs for semi-supervised node classification\n",
        "\n",
        "Now that we have a GCN with two layers, we can test its performance in a node classification task. We will pass the input node features $X$ through the GCN layers, and the output will be of size $n\\times k$ where $k$ is the number of classes (which you found in question 1). The label denotes the topic an article in the citation network belongs to (e.g. physics, computer science, etc.)."
      ]
    },
    {
      "cell_type": "markdown",
      "metadata": {
        "id": "trc4dSa7cuQj"
      },
      "source": [
        "#### Question 9 (1.5 pt)\n",
        "\n",
        "Note that the `data` object contains all labels (for all splits) in `data.y`, and binary masks for the train, validation, and test splits in `data.train_mask`, `data.val_mask`, and `data.test_mask`, respectively. These masks are the same size as `data.y`, and indicate which labels belong to which split.\n",
        "\n",
        "- Create a GCN with two layers (using the class from the previous question), with 32 as the hidden dimension, and the number of output features equal to the number of classes in the Cora dataset.\n",
        "\n",
        "- Use the Adam optimizer with a learning rate of 0.01.\n",
        "\n",
        "- Implement a training loop for the GCN. At each step, pass $X$ and $\\hat{A}$ to the GCN to obtain the logits. Compute the mean cross-entropy loss **only for the training instances**, using the binary masks.\n",
        "\n",
        "- After each training step, evaluate the accuracy for the validation instances.\n",
        "\n",
        "- Train for 100 epochs. Once training is finished, plot the training loss and validation accuracy (in a graph in function of the epoch number), and report the accuracy in the test set.\n",
        "\n",
        "You should obtain an accuracy over 75% on both the validation and test sets. You can also compare your results with the original paper, which also contains results for the Cora dataset. Give a brief discussion on the results of your experiments.\n",
        "\n",
        "Note that in contrast with other tasks, like image classification on some datasets, we don't use mini-batches here. The whole matrix of features and the adjacency is passed to the GCN in one step."
      ]
    },
    {
      "cell_type": "code",
      "execution_count": null,
      "metadata": {
        "colab": {
          "base_uri": "https://localhost:8080/",
          "height": 380
        },
        "id": "5Z2OP_ZRWlmo",
        "outputId": "1e974237-b974-4998-9319-2133ce2e9f08"
      },
      "outputs": [
        {
          "ename": "AttributeError",
          "evalue": "ignored",
          "output_type": "error",
          "traceback": [
            "\u001b[0;31m---------------------------------------------------------------------------\u001b[0m",
            "\u001b[0;31mAttributeError\u001b[0m                            Traceback (most recent call last)",
            "\u001b[0;32m<ipython-input-27-c3acb0a0288e>\u001b[0m in \u001b[0;36m<module>\u001b[0;34m\u001b[0m\n\u001b[1;32m     82\u001b[0m \u001b[0;34m\u001b[0m\u001b[0m\n\u001b[1;32m     83\u001b[0m     \u001b[0;31m# Pass the input features and adjacency matrix to the GCN to get the logits\u001b[0m\u001b[0;34m\u001b[0m\u001b[0;34m\u001b[0m\u001b[0;34m\u001b[0m\u001b[0m\n\u001b[0;32m---> 84\u001b[0;31m     \u001b[0mlogits\u001b[0m \u001b[0;34m=\u001b[0m \u001b[0mgcn\u001b[0m\u001b[0;34m.\u001b[0m\u001b[0mforward\u001b[0m\u001b[0;34m(\u001b[0m\u001b[0mX\u001b[0m\u001b[0;34m,\u001b[0m \u001b[0madj\u001b[0m\u001b[0;34m)\u001b[0m\u001b[0;34m\u001b[0m\u001b[0;34m\u001b[0m\u001b[0m\n\u001b[0m\u001b[1;32m     85\u001b[0m \u001b[0;34m\u001b[0m\u001b[0m\n\u001b[1;32m     86\u001b[0m     \u001b[0;31m# Get the labels for the training instances\u001b[0m\u001b[0;34m\u001b[0m\u001b[0;34m\u001b[0m\u001b[0;34m\u001b[0m\u001b[0m\n",
            "\u001b[0;32m<ipython-input-20-6e8485768378>\u001b[0m in \u001b[0;36mforward\u001b[0;34m(self, X, adj)\u001b[0m\n\u001b[1;32m     41\u001b[0m \u001b[0;34m\u001b[0m\u001b[0m\n\u001b[1;32m     42\u001b[0m     \u001b[0;32mdef\u001b[0m \u001b[0mforward\u001b[0m\u001b[0;34m(\u001b[0m\u001b[0mself\u001b[0m\u001b[0;34m,\u001b[0m \u001b[0mX\u001b[0m\u001b[0;34m,\u001b[0m \u001b[0madj\u001b[0m\u001b[0;34m)\u001b[0m\u001b[0;34m:\u001b[0m\u001b[0;34m\u001b[0m\u001b[0;34m\u001b[0m\u001b[0m\n\u001b[0;32m---> 43\u001b[0;31m         \u001b[0mX\u001b[0m \u001b[0;34m=\u001b[0m \u001b[0mF\u001b[0m\u001b[0;34m.\u001b[0m\u001b[0mrelu\u001b[0m\u001b[0;34m(\u001b[0m\u001b[0mself\u001b[0m\u001b[0;34m.\u001b[0m\u001b[0mgcn1\u001b[0m\u001b[0;34m(\u001b[0m\u001b[0mX\u001b[0m\u001b[0;34m,\u001b[0m \u001b[0madj\u001b[0m\u001b[0;34m)\u001b[0m\u001b[0;34m)\u001b[0m\u001b[0;34m\u001b[0m\u001b[0;34m\u001b[0m\u001b[0m\n\u001b[0m\u001b[1;32m     44\u001b[0m         \u001b[0mX\u001b[0m \u001b[0;34m=\u001b[0m \u001b[0mself\u001b[0m\u001b[0;34m.\u001b[0m\u001b[0mgcn2\u001b[0m\u001b[0;34m(\u001b[0m\u001b[0mX\u001b[0m\u001b[0;34m,\u001b[0m \u001b[0madj\u001b[0m\u001b[0;34m)\u001b[0m\u001b[0;34m\u001b[0m\u001b[0;34m\u001b[0m\u001b[0m\n\u001b[1;32m     45\u001b[0m \u001b[0;34m\u001b[0m\u001b[0m\n",
            "\u001b[0;32m/usr/local/lib/python3.8/dist-packages/torch/nn/modules/module.py\u001b[0m in \u001b[0;36m__getattr__\u001b[0;34m(self, name)\u001b[0m\n\u001b[1;32m   1263\u001b[0m             \u001b[0;32mif\u001b[0m \u001b[0mname\u001b[0m \u001b[0;32min\u001b[0m \u001b[0mmodules\u001b[0m\u001b[0;34m:\u001b[0m\u001b[0;34m\u001b[0m\u001b[0;34m\u001b[0m\u001b[0m\n\u001b[1;32m   1264\u001b[0m                 \u001b[0;32mreturn\u001b[0m \u001b[0mmodules\u001b[0m\u001b[0;34m[\u001b[0m\u001b[0mname\u001b[0m\u001b[0;34m]\u001b[0m\u001b[0;34m\u001b[0m\u001b[0;34m\u001b[0m\u001b[0m\n\u001b[0;32m-> 1265\u001b[0;31m         raise AttributeError(\"'{}' object has no attribute '{}'\".format(\n\u001b[0m\u001b[1;32m   1266\u001b[0m             type(self).__name__, name))\n\u001b[1;32m   1267\u001b[0m \u001b[0;34m\u001b[0m\u001b[0m\n",
            "\u001b[0;31mAttributeError\u001b[0m: 'GCN' object has no attribute 'gcn1'"
          ]
        }
      ],
      "source": [
        "import torch\n",
        "from torch import nn\n",
        "from torch.optim import Adam\n",
        "from torch.utils.data import TensorDataset, DataLoader\n",
        "import os\n",
        "import collections\n",
        "import numpy as np\n",
        "import pandas as pd\n",
        "import matplotlib.pyplot as plt\n",
        "import seaborn as sns\n",
        "import scipy.sparse as sp\n",
        "import torch\n",
        "from torch import Tensor\n",
        "import torch_geometric\n",
        "from torch_geometric.utils import to_networkx\n",
        "from torch_geometric.datasets import Planetoid\n",
        "import networkx as nx\n",
        "from networkx.algorithms import community\n",
        "\n",
        "import torch.nn as nn\n",
        "import torch.nn.functional as F\n",
        "from torch_geometric.datasets import Planetoid\n",
        "data = Planetoid(root='data/Planetoid', name='Cora')[0]\n",
        "\n",
        "# Load the graph data\n",
        "#data = Planetoid(root='data/Planetoid', name='Cora')[0]\n",
        "\n",
        "import matplotlib.pyplot as plt\n",
        "\n",
        "class GCNLayer(nn.Module):\n",
        "    def __init__(self, in_feats, out_feats, dropout=0.1, concat=True, bias=True):\n",
        "        super(GCNLayer, self).__init__()\n",
        "        self.in_feats = in_feats\n",
        "        self.out_feats = out_feats\n",
        "        self.W = nn.Parameter(torch.FloatTensor(in_feats, out_feats))\n",
        "        self.use_bias = bias\n",
        "        if self.use_bias:\n",
        "            self.B = nn.Parameter(torch.FloatTensor(out_feats))\n",
        "        self.reset_parameters()\n",
        "        self.dropout = dropout\n",
        "        self.concat = concat\n",
        "        \n",
        "    def reset_parameters(self):\n",
        "        nn.init.kaiming_uniform_(self.W)\n",
        "        if self.use_bias:\n",
        "            nn.init.zeros_(self.B)\n",
        "    \n",
        "    def forward(self, inputs, adjs):\n",
        "        support = torch.mm(inputs, self.W)\n",
        "        output = torch.spmm(adjs, support)\n",
        "        if self.use_bias:\n",
        "            return output + self.B\n",
        "\n",
        "\n",
        "# Get the number of input features and number of classes for the Cora dataset\n",
        "nfeat = data.num_features\n",
        "nclass = dataset.num_classes\n",
        "\n",
        "# Set the hidden dimension of the GCN\n",
        "nhid = 32\n",
        "\n",
        "# Create the GCN\n",
        "gcn = GCN(nfeat, nhid, nclass)\n",
        "\n",
        "# Use the Adam optimizer with a learning rate of 0.01\n",
        "optimizer = torch.optim.Adam(gcn.parameters(), lr=0.01)\n",
        "\n",
        "# Keep track of the training and validation accuracies\n",
        "train_losses = []\n",
        "val_accuracies = []\n",
        "\n",
        "# Train the model for 100 epochs\n",
        "for epoch in range(100):\n",
        "    # Zero the gradients of the optimizer\n",
        "    optimizer.zero_grad()\n",
        "    \n",
        "    # Get the input features and adjacency matrix\n",
        "    X = data.x\n",
        "    adj = data.edge_index\n",
        "    \n",
        "    # Pass the input features and adjacency matrix to the GCN to get the logits\n",
        "    logits = gcn.forward(X, adj)\n",
        "    \n",
        "    # Get the labels for the training instances\n",
        "    labels = data.y[data.train_mask]\n",
        "    \n",
        "    # Compute the mean cross-entropy loss for the training instances\n",
        "    loss = F.nll_loss(logits[data.train_mask], labels)\n",
        "    \n",
        "    # Backpropagate the loss and take an optimization step\n",
        "    loss.backward()\n",
        "    optimizer.step()\n",
        "    \n",
        "    # Append the training loss for this epoch to the list\n",
        "    train_losses.append(loss.item())\n",
        "\n",
        "    preds = logits[data.val_mask].max(1)[1]\n",
        "\n",
        "    # Compute the accuracy for the validation instances\n",
        "    accuracy = preds.eq(labels).sum().item() / labels.size(0)\n",
        "\n",
        "    # Append the validation accuracy for this epoch to the list\n",
        "    val_accuracies.append(accuracy)\n",
        "\n",
        "\n",
        "# # Plot the training and validation accuracies\n",
        "# # plt.plot(train_accuracies, label='train')\n",
        "# # plt.plot(val_accuracies, label='val')\n",
        "# # plt.xlabel('Epoch')\n",
        "# # plt.ylabel('Accuracy')\n",
        "# # plt.legend()\n",
        "# # plt.show()\n",
        "\n",
        "# preds = logits[data.test_mask].max(1)[1]\n",
        "# accuracy = preds.eq(labels).sum().item() / labels.size(0)\n",
        "# print('Test accuracy:', accuracy)\n",
        "\n",
        "# # Compute the test accuracy\n",
        "# # test_accuracy = (logits[data.test_mask].argmax(dim=1) == y[data.test_mask]).float().mean().item()\n",
        "# # print(f'Test accuracy: {test_accuracy:.4f}')"
      ]
    },
    {
      "cell_type": "markdown",
      "metadata": {
        "id": "vb5YjHVClCqo"
      },
      "source": [
        "#### Question 10 (0.5 pt)\n",
        "\n",
        "The paper introduces GCNs as a way to solve a *semi-supervised* classification problem.\n",
        "\n",
        "- What makes this problem semi-supervised?\n",
        "- What is the proportion of labeled data used for training with respect to labeled data in the validation and test sets? What is difference in this context with other benchmark tasks in machine learning, like image classification with MNIST?\n",
        "- Why do you think the GCN performs well in this semi-supervised scenario?"
      ]
    },
    {
      "cell_type": "markdown",
      "metadata": {
        "id": "UawzYh8HSw5z"
      },
      "source": [
        "*Answer*\n",
        "\n",
        "<p align=\"justify\">In the \"Semi-supervised Classification with Graph Convolutional Networks\" paper, the authors use a number of citation network datasets to evaluate their GCN model. These datasets consist of nodes representing papers and edges representing citations between papers. The nodes are labeled with the subject area of the paper, and the task is to predict the subject area of each node based on the labels of the other nodes and the structure of the citation network.\n",
        "\n",
        "\n",
        "* *What makes this problem semi-supervised?*\n",
        "\n",
        "<p align=\"justify\">The problem is considered semi-supervised because only a portion of the nodes in the dataset are labeled, while the rest of the nodes are unlabeled. The GCN model is trained to predict the labels of the unlabeled nodes based on the labels of the labeled nodes and the structure of the citation network. This is in contrast to a supervised learning problem, in which all the training data is labeled, or an unsupervised learning problem, in which all the data is unlabeled.\n",
        "\n",
        "* *What is the proportion of labeled data used for training with respect to labeled data in the validation and test sets?*\n",
        "\n",
        "<p align=\"justify\">In the experiments reported in the paper, the authors use a fixed amount of labeled data for training and evaluate the model on a fixed amount of labeled data in the validation and test sets. The proportion of labeled data used for training varies across the different datasets, but in general it is relatively small compared to the total amount of data. For example, in the Cora dataset, the authors use 140 labeled data points for training, 500 labeled data points for validation, and 1,000 labeled data points for testing. This is a small fraction of the total number of data points in the dataset, which is around 2,500.\n",
        "\n",
        "* *What is difference in this context with other benchmark tasks in machine learning, like image classification with MNIST?*\n",
        "\n",
        "<p align=\"justify\">The use of a relatively small amount of labeled data for training is common in semi-supervised learning, as it is often the case that only a small amount of labeled data is available. In contrast, in tasks like image classification with MNIST, a much larger proportion of the data is typically used for training. For example, the MNIST dataset contains 60,000 training images and 10,000 test images, so the proportion of labeled data used for training is much higher.\n",
        "\n",
        "* *Why do you think the GCN performs well in this semi-supervised scenario?*\n",
        "\n",
        "<p align=\"justify\">There are several reasons why the GCN model introduced in the \"Semi-supervised Classification with Graph Convolutional Networks\" paper performs well in a semi-supervised classification scenario.\n",
        "\n",
        "<p align=\"justify\">First, the GCN model is specifically designed to make use of both labeled and unlabeled data in a graph structure. It uses the graph structure and the labels of the labeled nodes to propagate information and make predictions for the unlabeled nodes. This allows it to make use of additional information about the relationships between the data points, which can improve the model's performance.\n",
        "\n",
        "<p align=\"justify\">Second, the GCN model uses a convolutional neural network (CNN) architecture, which has been shown to be effective for many types of data, including images and text. The GCN model extends the CNN architecture to graph-structured data by using graph convolutional layers, which can effectively capture local patterns and dependencies in the graph structure.\n",
        "\n",
        "<p align=\"justify\">Finally, the GCN model is trained using a variant of the cross-entropy loss function, which is a common choice for classification tasks. This loss function allows the model to learn to predict the correct class labels for the data points based on the input features and the labels of the labeled data points.\n",
        "\n",
        "<p align=\"justify\">Overall, the combination of these factors makes the GCN model well-suited to solving semi-supervised classification problems on graph-structured data."
      ]
    },
    {
      "cell_type": "markdown",
      "metadata": {
        "id": "4ihrjZddvz5d"
      },
      "source": [
        "### Loading a dataset of proteins\n",
        "\n",
        "In the previous sections you learned how to pass the adjacency matrix of a graph with a couple of thousand of nodes, to classify each node with a particular label. A different and useful application of GCNs is graph classification.\n",
        "\n",
        "In contrast with the previous part, where there was a single, big graph, in graph classification we have multiple graphs, and each graph can be assigned a label. In this part of the assignment you will implement a classifier for proteins.\n",
        "\n",
        "[Proteins](https://en.wikipedia.org/wiki/Protein_(nutrient)) are parts of the buildings block of life. They consist of chains of amino acids, and can take many shapes. In the PROTEINS dataset, proteins are represented as graphs, where the nodes are amino acids, and an edge between them indicates that they are 6 [Angstroms](https://en.wikipedia.org/wiki/Angstrom) apart. All graphs have a binary label, where 1 means that the protein is not an enzyme.\n",
        "\n",
        "We will start by loading and examining this dataset."
      ]
    },
    {
      "cell_type": "code",
      "execution_count": 10,
      "metadata": {
        "colab": {
          "base_uri": "https://localhost:8080/"
        },
        "id": "xmqweMcvnUH6",
        "outputId": "209b866f-1e94-497a-c6d3-ac9b807e4ba9"
      },
      "outputs": [
        {
          "name": "stderr",
          "output_type": "stream",
          "text": [
            "Downloading https://www.chrsmrrs.com/graphkerneldatasets/PROTEINS.zip\n",
            "Extracting data/TU/PROTEINS/PROTEINS.zip\n",
            "Processing...\n",
            "Done!\n"
          ]
        }
      ],
      "source": [
        "from torch_geometric.datasets import TUDataset\n",
        "dataset = TUDataset(root='data/TU', name='PROTEINS', use_node_attr=True)"
      ]
    },
    {
      "cell_type": "markdown",
      "metadata": {
        "id": "EgqqVEbcUx8B"
      },
      "source": []
    },
    {
      "cell_type": "markdown",
      "metadata": {
        "id": "_oF1gyKPXiz-"
      },
      "source": [
        "#### Question 11 (0.25 pt)\n",
        "\n",
        "Unlike in the previous part, where we selected the first element returned by the loading function, note that here we get all the elements returned by `TUDataset()`. `dataset` is an interable object, that has some similar behaviors as a Python list: you can call `len()` on it, and you can takes slices from it.\n",
        "\n",
        "Each element in `dataset` is a `Data` object containing a graph that represents a protein. This is the same type of object that we used in the previous part to store the Cora citation network.\n",
        "\n",
        "Knowing this, answer the following:\n",
        "\n",
        "- How many proteins (graphs) are there in `dataset`?\n",
        "- Take any protein from `dataset`. How many nodes and edges does it contain? What is its label? How many features does each node have?"
      ]
    },
    {
      "cell_type": "code",
      "execution_count": 15,
      "metadata": {
        "colab": {
          "base_uri": "https://localhost:8080/"
        },
        "id": "ZNPsnXXbbHHe",
        "outputId": "42a3c626-02fc-4076-b31b-a00b580e2cf9"
      },
      "outputs": [
        {
          "name": "stdout",
          "output_type": "stream",
          "text": [
            "There are 1113 proteins in the dataset.\n",
            "The protein contains 42 nodes and 162 edges.\n",
            "The label for this protein is 0.\n",
            "Each node in this protein has 4 features.\n"
          ]
        }
      ],
      "source": [
        "# How many proteins (graphs) are there in dataset?\n",
        "num_proteins = len(dataset)\n",
        "print(f'There are {num_proteins} proteins in the dataset.')\n",
        "\n",
        "# Take any protein from dataset. For instance, the first one\n",
        "protein = dataset[0]\n",
        "\n",
        "# How many nodes and edges does it contain? \n",
        "num_nodes = protein.num_nodes\n",
        "num_edges = protein.num_edges\n",
        "print(f'The protein contains {num_nodes} nodes and {num_edges} edges.')\n",
        "\n",
        "# What is its label? \n",
        "label = protein.y[0]\n",
        "print(f'The label for this protein is {label}.')\n",
        "\n",
        "# How many features does each node have?\n",
        "num_features = protein.num_features\n",
        "print(f'Each node in this protein has {num_features} features.')"
      ]
    },
    {
      "cell_type": "markdown",
      "metadata": {
        "id": "kHSklBZXpKpR"
      },
      "source": [
        "#### Question 12 (0.5 pt)\n",
        "\n",
        "To properly train and evaluate our model, we need training, validation, and test splits.\n",
        "\n",
        "For reproducibility purposes, we generate a random tensor of indices for you. Use it to extract the three splits from `dataset`.\n",
        "\n",
        "For training, take 80% of the indices (starting from the first element in `indices`), then the following 10% for validation, and the remaining 10% for testing. You can use the indices to index `dataset`.\n",
        "\n",
        "Call the resulting splits `train_dataset`, `valid_dataset`, and `test_dataset`."
      ]
    },
    {
      "cell_type": "code",
      "execution_count": 11,
      "metadata": {
        "colab": {
          "base_uri": "https://localhost:8080/"
        },
        "id": "ttY4d1GInn08",
        "outputId": "cbef8e5a-4e38-4760-a90b-a60f53ec0ac4"
      },
      "outputs": [
        {
          "name": "stdout",
          "output_type": "stream",
          "text": [
            "Number of proteins in the training set: 890\n",
            "Number of proteins in the validation set: 111\n",
            "Number of proteins in the test set: 112\n"
          ]
        }
      ],
      "source": [
        "# Don't erase the following three lines\n",
        "import torch\n",
        "torch.random.manual_seed(0)\n",
        "indices = torch.randperm(len(dataset))\n",
        "\n",
        "# Your answer here\n",
        "train_size = int(len(indices) * 0.8)\n",
        "valid_size = int(len(indices) * 0.1)\n",
        "test_size = len(indices) - train_size - valid_size\n",
        "\n",
        "train_dataset = [dataset[i] for i in indices[: train_size]]\n",
        "valid_dataset = [dataset[i] for i in indices[train_size: train_size + valid_size]]\n",
        "test_dataset  = [dataset[i] for i in indices[train_size + valid_size: ]]\n",
        "\n",
        "print(f\"Number of proteins in the training set: {len(train_dataset)}\")\n",
        "print(f\"Number of proteins in the validation set: {len(valid_dataset)}\")\n",
        "print(f\"Number of proteins in the test set: {len(test_dataset)}\")"
      ]
    },
    {
      "cell_type": "markdown",
      "metadata": {
        "id": "rDJbB4CQqsfp"
      },
      "source": [
        "### Working with a batch of graphs\n",
        "\n",
        "When working with the Cora dataset, you used the information in `data.edge_index` to build the sparse normalized adjacency matrix $\\hat{A}$ that is required by the GCN. We could do something similar here: for each graph, we build $\\hat{A}$, and pass it to the GCN. However, if the number of graphs is big, this can really slow down training.\n",
        "\n",
        "To avoid this, we will resort to a very useful trick that also allows us to reuse the same GCN you implemented previously. The trick makes it possible to do a forward pass through the GCN for multiple, disconnected graphs at the same time (instead of only one), much like when you train with mini-batches for other kinds of data.\n",
        "\n",
        "Let's first revisit the propagation rule of the GCN, $Z = \\hat{A}XW$, with an illustration (we have omitted the cells of $X$ and $W$ for clarity):\n",
        "\n",
        "<img src=\"https://raw.githubusercontent.com/dfdazac/dlvu-a5/main/img/02-gcn-forward.png\">\n",
        "\n",
        "If we have multiple graphs, we can still use the same propagation rule, if we\n",
        "\n",
        "- Set $\\hat{A}$ to be a block diagonal matrix, where the blocks are the different adjacency matrices of the graphs\n",
        "- Concatenate the feature matrices along the first dimension\n",
        "\n",
        "This is illustrated in the following figure, for a batch of 3 graphs. Note that the elements outside of the blocks are zero.\n",
        "\n",
        "<img src=\"https://raw.githubusercontent.com/dfdazac/dlvu-a5/main/img/02-gcn-batch-forward.png\">\n",
        "\n",
        "The resulting adjacency matrix $\\hat{A}_B$ can also be built as a sparse matrix, and once we have it together with the concatenated matrix of features, the computation of the graph convolution is exactly the same as before. Note how this trick also allows us to process graphs with different sizes and structures.\n"
      ]
    },
    {
      "cell_type": "markdown",
      "metadata": {
        "id": "0DLPJ62b2mQ6"
      },
      "source": [
        "#### Question 13 (0.5 pt)\n",
        "\n",
        "\n",
        "Just as the citation network, the graphs in each of the datasets you created in Question 12 also have an `edge_index` attribute, which can be used to compute the normalized adjacency matrix $\\hat{A}$, for each graph.\n",
        "\n",
        "Reusing your code for Questions 3 and 5, define a function `get_a_norm()` that takes as input an element of a dataset (e.g. `train_dataset[0]`), and returns a `scipy.sparse` matrix containing $\\hat{A}$.\n",
        "\n",
        "Note that an element of a dataset has properties like `num_edges`, `num_nodes`, etc. which you can use here."
      ]
    },
    {
      "cell_type": "code",
      "execution_count": 14,
      "metadata": {
        "colab": {
          "base_uri": "https://localhost:8080/"
        },
        "id": "4nvPX2GB8oXp",
        "outputId": "c4602213-239e-482e-ae47-3b8c4f4f08b8"
      },
      "outputs": [
        {
          "name": "stdout",
          "output_type": "stream",
          "text": [
            "  (0, 0)\t0.25\n",
            "  (0, 1)\t0.20412415266036987\n",
            "  (0, 17)\t0.25\n",
            "  (0, 20)\t0.22360679507255554\n",
            "  (1, 0)\t0.20412415266036987\n",
            "  (1, 1)\t0.16666667879725594\n",
            "  (1, 2)\t0.20412415266036987\n",
            "  (1, 3)\t0.20412415266036987\n",
            "  (1, 17)\t0.20412415266036987\n",
            "  (1, 20)\t0.18257419029314548\n",
            "  (2, 1)\t0.20412415266036987\n",
            "  (2, 2)\t0.25\n",
            "  (2, 3)\t0.25\n",
            "  (2, 20)\t0.22360679507255554\n",
            "  (3, 1)\t0.20412415266036987\n",
            "  (3, 2)\t0.25\n",
            "  (3, 3)\t0.25\n",
            "  (3, 4)\t0.25\n",
            "  (4, 3)\t0.25\n",
            "  (4, 4)\t0.25\n",
            "  (4, 5)\t0.25\n",
            "  (4, 6)\t0.22360679507255554\n",
            "  (5, 4)\t0.25\n",
            "  (5, 5)\t0.25\n",
            "  (5, 6)\t0.22360679507255554\n",
            "  :\t:\n",
            "  (16, 18)\t0.20412415266036987\n",
            "  (16, 21)\t0.25\n",
            "  (17, 0)\t0.25\n",
            "  (17, 1)\t0.20412415266036987\n",
            "  (17, 17)\t0.25\n",
            "  (17, 20)\t0.22360679507255554\n",
            "  (18, 14)\t0.18257419029314548\n",
            "  (18, 15)\t0.16666667879725594\n",
            "  (18, 16)\t0.20412415266036987\n",
            "  (18, 18)\t0.16666667879725594\n",
            "  (18, 19)\t0.20412415266036987\n",
            "  (18, 21)\t0.20412415266036987\n",
            "  (19, 14)\t0.22360679507255554\n",
            "  (19, 15)\t0.20412415266036987\n",
            "  (19, 18)\t0.20412415266036987\n",
            "  (19, 19)\t0.25\n",
            "  (20, 0)\t0.22360679507255554\n",
            "  (20, 1)\t0.18257419029314548\n",
            "  (20, 2)\t0.22360679507255554\n",
            "  (20, 17)\t0.22360679507255554\n",
            "  (20, 20)\t0.1999999952104794\n",
            "  (21, 15)\t0.20412415266036987\n",
            "  (21, 16)\t0.25\n",
            "  (21, 18)\t0.20412415266036987\n",
            "  (21, 21)\t0.25\n"
          ]
        }
      ],
      "source": [
        "def get_a_norm(data):\n",
        "    num_nodes = data.num_nodes\n",
        "\n",
        "    # Build the adjacency matrix\n",
        "    adjacency = scipy.sparse.coo_matrix((np.ones(data.edge_index.shape[1]),\n",
        "                      (data.edge_index[0, :], data.edge_index[1, :])),\n",
        "                      shape=(num_nodes, num_nodes), dtype=np.float32)\n",
        "\n",
        "    # Add the identity matrix to the adjacency matrix A\n",
        "    A_hat = adjacency + scipy.sparse.eye(num_nodes)\n",
        "\n",
        "    # Obtain D_hat\n",
        "    degree = A_hat.sum(axis=0).A1\n",
        "    D_hat = scipy.sparse.diags([degree], [0], dtype=np.float32)\n",
        "\n",
        "    # Compute the inverse square root of the degree array\n",
        "    degree_sqrt_inv = 1 / np.sqrt(degree)\n",
        "\n",
        "    # Construct the matrix D^(-1/2) as a sparse diagonal matrix\n",
        "    D_final = scipy.sparse.diags([degree_sqrt_inv], [0], dtype=np.float32)\n",
        "\n",
        "    # normalize\n",
        "    A_hat_norm = D_final.dot(A_hat).dot(D_final)\n",
        "    return A_hat_norm\n",
        "\n",
        "train_a_norm = [get_a_norm(data) for data in train_dataset]\n",
        "valid_a_norm = [get_a_norm(data) for data in valid_dataset]\n",
        "test_a_norm  = [get_a_norm(data) for data in test_dataset]\n",
        "print(test_a_norm[0]) # For visualization"
      ]
    },
    {
      "cell_type": "markdown",
      "metadata": {
        "id": "cBrmYBY3AfhW"
      },
      "source": [
        "#### Question 14 (1 pt)\n",
        "\n",
        "To prepare the batch of graphs, we need to collect multiple adjacency matrices, feature matrices, and labels.\n",
        "\n",
        "When using the trick described in the last figure, we see that we have to keep track of when a graph starts and when it ends, so that we can later differentiate the outputs due to $X^{(0)}$, $X^{(1)}$, etc. To achieve this, we will additionally collect a 1D array of batch indices, one for each $X^{(i)}$.\n",
        "\n",
        "The 1D array has as many elements as rows in $X^{(i)}$, and it is filled with the value $i$ (the position of $X^{(i)}$ in the batch):\n",
        "\n",
        "<img src=\"https://raw.githubusercontent.com/dfdazac/dlvu-a5/main/img/03-batch-indices.png\">\n",
        "\n",
        "We will later concatenate all the 1D arrays along the first dimension, just as we will do with all the $X^{(i)}$.\n",
        "\n",
        "Define a function `prepare_graphs_batch()` that takes as input a dataset (e.g. `train_dataset`), and does the following\n",
        "\n",
        "- Create four empty lists:\n",
        "  - `adj_matrices`\n",
        "  - `feature_matrices`\n",
        "  - `batch_indices`\n",
        "  - `labels`\n",
        "- Iterate over the input dataset, getting one graph at a time. At each step, use your function from Question 13 to append the adjacency matrix to `adj_matrices`, append the matrix of input features to `feature_matrices`, create the array of batch indices (as explained above) and append it to `batch_indices`, and append the label of the graph to `labels`. **Make sure to convert the label to float**.\n",
        "- Once the loop is over, use `scipy.sparse.block_diag()` to build the block diagonal matrix $\\hat{A}_B$. Convert it to the COO format, and then use your answer to Question 6 to turn it into a sparse PyTorch tensor.\n",
        "- Use `torch.cat()` to concatenate the tensors in `feature_matrices` along the first dimension. Do this also for `batch_indices` and `labels`.\n",
        "- Return the 4 tensors computed in the previous two items."
      ]
    },
    {
      "cell_type": "code",
      "execution_count": 15,
      "metadata": {
        "id": "SsQ0-JjSqFgD"
      },
      "outputs": [],
      "source": [
        "def prepare_graphs_batch(dataset):\n",
        "    # The four empty lists\n",
        "    adj_matrices = []\n",
        "    feature_matrices = []\n",
        "    batch_indices = []\n",
        "    labels = []\n",
        "    \n",
        "    for i, graph in enumerate(dataset):\n",
        "        # Append the adjacency matrix\n",
        "        adj_matrix = get_a_norm(graph)\n",
        "        adj_matrices.append(adj_matrix)\n",
        "\n",
        "        # Append the feature matrix \n",
        "        feature_matrices.append(graph.x)\n",
        "\n",
        "        # Convert the batch index array to a tensor\n",
        "        batch_index_tensor = torch.from_numpy(i * np.ones(graph.num_nodes, dtype=np.int64))\n",
        "        batch_indices.append(batch_index_tensor)\n",
        "        labels.append(graph.y)\n",
        "    \n",
        "    # Build block diagonal matrix in COO format and turn it into a sparse tensor\n",
        "    a_norm_batch = scipy.sparse.block_diag(adj_matrices).tocoo()\n",
        "    row_indices, col_indices, values = scipy.sparse.find(a_norm_batch)\n",
        "\n",
        "    # Notice that it is here we we convert the labels into floats\n",
        "    a_norm_batch_torch = torch.sparse_coo_tensor(torch.LongTensor([row_indices, col_indices]),\n",
        "                                                 torch.FloatTensor(values),\n",
        "                                                 a_norm_batch.shape)\n",
        "    \n",
        "    # Concatenate the feature, batch and label matrices using torch.cat\n",
        "    features_batch = torch.cat(feature_matrices, dim=0)\n",
        "    batch_indices_batch = torch.cat(batch_indices, dim=0)\n",
        "    labels_batch = torch.cat(labels, dim=0)\n",
        "    \n",
        "    return a_norm_batch_torch, features_batch, batch_indices_batch, labels_batch"
      ]
    },
    {
      "cell_type": "markdown",
      "metadata": {
        "id": "i73P_EU0MSPX"
      },
      "source": [
        "Once your answer for the previous question is ready, you can run the next cell to prepare all the required information, for the train, validation, and test splits."
      ]
    },
    {
      "cell_type": "code",
      "execution_count": 16,
      "metadata": {
        "id": "Iol5FxJGMmAU"
      },
      "outputs": [],
      "source": [
        "train_a_norm, train_features, train_batch_idx, train_labels = prepare_graphs_batch(train_dataset)\n",
        "valid_a_norm, valid_features, valid_batch_idx, valid_labels = prepare_graphs_batch(valid_dataset)\n",
        "test_a_norm, test_features, test_batch_idx, test_labels = prepare_graphs_batch(test_dataset)"
      ]
    },
    {
      "cell_type": "markdown",
      "metadata": {
        "id": "R6q-JU87NClh"
      },
      "source": [
        "### GCNs for graph classification\n",
        "\n",
        "We now have all the ingredients to pass a batch of graphs to a GCN. However, for each graph in the batch, the output $Z^{(i)}$ contains one row for each node in the graph. If the goal is to do classification at the graph level, we have to *pool* these vectors to then compute the required logits for classification.\n",
        "\n",
        "This operation is similar as how pooling works in a CNN. We could consider taking the mean of the vectors, the sum, or use max-pooling. The difference with respect to CNNs is that in our case, we have a batch of graphs, each potentially with a different number of nodes.\n",
        "\n",
        "To implement this specific pooling, we can use the scatter operation in the `torch_scatter` library, which comes when installing PyG. We will use it, together with the tensor of batch indices from the previous two questions, to pool the outputs of the GCN for each graph, into a single vector:\n",
        "\n",
        "<img src=\"https://raw.githubusercontent.com/dfdazac/dlvu-a5/main/img/04-scatter.png\">\n",
        "\n",
        "You can check more details in the [documentation](https://pytorch-scatter.readthedocs.io/en/latest/functions/scatter.html)."
      ]
    },
    {
      "cell_type": "markdown",
      "metadata": {
        "id": "QY87DX1uRhnY"
      },
      "source": [
        "#### Question 15 (1.0 pt)\n",
        "\n",
        "Implement a `GraphClassifier` module using PyTorch.\n",
        "\n",
        "- The constructor should take as arguments the number of input features, the hidden dimension, and the number of classes.\n",
        "- The model should contain a instance of the `GCN` module (as you implemented it in Question 8). Use the same value for the hidden dimension and the number of output features (recall that your `GCN` module from Question 8 has two GCN layers).\n",
        "- The model should also contain a `torch.nn.Linear` layer, with the hidden dimension as the input features, and the number of classes as the output.\n",
        "- The forward method receives the concatenated matrix of features, the sparse block diagonal adjacency matrix, and the batch indices (the latter is used when calling `scatter`).\n",
        "- Use the following architecture in the forward pass:\n",
        "  - GCN $\\to$ ReLU $\\to$ scatter (max) $\\to$ Linear.\n",
        "\n",
        "The output of the forward should be a 1D tensor (you might need to call `squeeze` to get rid of extra dimensions) containing the logits for all graphs in the batch, for the binary classification task."
      ]
    },
    {
      "cell_type": "code",
      "execution_count": 19,
      "metadata": {
        "id": "750WraywwYDH"
      },
      "outputs": [],
      "source": [
        "import torch_scatter\n",
        "\n",
        "class GraphClassifier(nn.Module):\n",
        "    def __init__(self, inp_feat, nhid, nclass):\n",
        "        super(GraphClassifier, self).__init__()\n",
        "        self.gcn = GCN(inp_feat, nhid, nclass)\n",
        "        self.linear = nn.Linear(nhid, nclass)\n",
        "    \n",
        "    def forward(self, X, adj, batch_indices):\n",
        "        out = self.gcn(X, adj)\n",
        "        out = F.relu(out)\n",
        "        out, _ = torch_scatter.scatter_max(out, batch_indices, dim=0)\n",
        "        out = self.linear(out)\n",
        "        return out.squeeze()"
      ]
    },
    {
      "cell_type": "markdown",
      "metadata": {
        "id": "h0QHnn6dV87J"
      },
      "source": []
    },
    {
      "cell_type": "markdown",
      "metadata": {
        "id": "C1PHy-_vTjgh"
      },
      "source": [
        "#### Question 16 (1.5 pt)\n",
        "\n",
        "Implement a training loop for the graph classifier. Use the data from Question 14 to train and evaluate the model.\n",
        "\n",
        "We encourage you to use a GPU in this section for faster training. Note that if you change the runtime at this point, you must re-execute several of the cells above, including the ones that install PyG.\n",
        "\n",
        "- Instantiate a classifier with 32 as the hidden dimension\n",
        "- Use Adam with a learning rate of 1e-3.\n",
        "- Use `torch.nn.BCEWithLogitsLoss` as the loss function.\n",
        "- Train for 5,000 epochs. Once training is done, plot the loss curve and the accuracy in the validation set. Then report the accuracy in the test set.\n",
        "\n",
        "**Note:** the logits from the output of the classifier come from a linear layer. To compute actual predictions for the calculation of the accuracy, pass the logits through `torch.sigmoid()`, and set the predicted values to 1 whenever they are greater than 0.5, and to 0 otherwise.\n",
        "\n",
        "You should get an accuracy equal to or higher than 70% in the validation and test sets. Can you beat the [state-of-the-art](https://paperswithcode.com/sota/graph-classification-on-proteins)? Feel free to modify your architecture and experiment with it.\n",
        "\n",
        "Discuss what you observe during training and your results."
      ]
    },
    {
      "cell_type": "code",
      "execution_count": null,
      "metadata": {
        "id": "9DbGAs8W2Xja"
      },
      "outputs": [],
      "source": [
        "# If your runtime is GPU-enabled, use .to(device) to move the model\n",
        "# and all the relevant tensors to the GPU. You have to move tensors back to CPU\n",
        "# when computing metrics like accuracy, using .cpu().\n",
        "device = torch.device('cuda') if torch.cuda.is_available() else 'cpu'\n",
        "\n",
        "# Your answer here\n"
      ]
    },
    {
      "cell_type": "markdown",
      "metadata": {
        "id": "MvmAfDNMcnKD"
      },
      "source": [
        "## The end\n",
        "\n",
        "If you have made it all the way here successfully, congratulations! 🎉 \n",
        "\n",
        "You have implemented your own GCN and tested it on a node classification task, and a more challenging classification task over multiple graphs.\n",
        "\n",
        "We hope you can use this knowledge to apply GCNs not only to the tasks described here, but other applications where data can be modeled as a graph.\n",
        "\n",
        "If you are interested in applying graph neural networks to larger graphs, or try newer architectures, you can dive deeper into [PyTorch Geometric](https://pytorch-geometric.readthedocs.io/en/latest/), a library with fast implementations for a wide range of architectures. It also comes with custom code that takes care of aspects that you dealt with manually for this assignment, like a more efficient implementation of the adjacency matrix multiplication via message-passing methods, and Data Loaders that relieve you from having to build block diagonal sparse matrices.\n",
        "\n",
        "You can also check the [Deep Graph Library](https://docs.dgl.ai/) another powerful library for deep learning on graphs which also integrates with other backends like TensorFlow."
      ]
    },
    {
      "cell_type": "markdown",
      "metadata": {
        "id": "l7QhyAMms8-L"
      },
      "source": [
        "# Grading (10pt)"
      ]
    },
    {
      "cell_type": "markdown",
      "metadata": {
        "id": "juIdxXhos-mV"
      },
      "source": [
        "- Question 1: 0.25pt \n",
        "- Question 2: 0.25pt \n",
        "- Question 3: 0.5pt \n",
        "- Question 4: 0.25pt \n",
        "- Question 5: 0.5pt \n",
        "- Question 6: 0.5pt \n",
        "- Question 7: 0.5pt \n",
        "- Question 8: 0.5pt \n",
        "- Question 9: 1.5pt \n",
        "- Question 10: 0.5pt \n",
        "- Question 11: 0.25pt \n",
        "- Question 12: 0.5pt \n",
        "- Question 13: 0.5pt \n",
        "- Question 14: 1pt\n",
        "- Question 15: 1pt\n",
        "- Question 16: 1.5pt"
      ]
    }
  ],
  "metadata": {
    "accelerator": "GPU",
    "colab": {
      "provenance": [],
      "toc_visible": true
    },
    "gpuClass": "standard",
    "kernelspec": {
      "display_name": "Python 3",
      "language": "python",
      "name": "python3"
    },
    "language_info": {
      "codemirror_mode": {
        "name": "ipython",
        "version": 3
      },
      "file_extension": ".py",
      "mimetype": "text/x-python",
      "name": "python",
      "nbconvert_exporter": "python",
      "pygments_lexer": "ipython3",
      "version": "3.9.4"
    },
    "vscode": {
      "interpreter": {
        "hash": "d0029f7889732b42426d819c5dd4528081c074cc304578c860580e40a70cd638"
      }
    }
  },
  "nbformat": 4,
  "nbformat_minor": 0
}
